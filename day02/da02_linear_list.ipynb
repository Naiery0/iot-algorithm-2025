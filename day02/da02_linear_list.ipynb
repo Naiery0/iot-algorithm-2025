{
 "cells": [
  {
   "cell_type": "code",
   "execution_count": null,
   "metadata": {},
   "outputs": [],
   "source": []
  },
  {
   "cell_type": "markdown",
   "metadata": {},
   "source": [
    "### 선형 리스트(Linear List)\n"
   ]
  },
  {
   "cell_type": "code",
   "execution_count": 21,
   "metadata": {},
   "outputs": [],
   "source": [
    "katalk = ['다현', '정연', '쯔위', '사나', '지효']"
   ]
  },
  {
   "cell_type": "code",
   "execution_count": 8,
   "metadata": {},
   "outputs": [
    {
     "name": "stdout",
     "output_type": "stream",
     "text": [
      "2507422398960\n",
      "2507422398384\n",
      "2507422400112\n",
      "2507422394064\n"
     ]
    }
   ],
   "source": [
    "print(id(katalk[0]))\n",
    "print(id(katalk[1]))\n",
    "print(id(katalk[2]))\n",
    "print(id(katalk[3]))"
   ]
  },
  {
   "cell_type": "markdown",
   "metadata": {},
   "source": [
    "#### 배열이라고 가정\n",
    "- 데이터 마지막에 추가하려면\n",
    "    - 배열 마지막에 빈공간 생성\n",
    "    - 데이터 추가\n"
   ]
  },
  {
   "cell_type": "code",
   "execution_count": 22,
   "metadata": {},
   "outputs": [
    {
     "data": {
      "text/plain": [
       "['다현', '정연', '쯔위', '사나', '지효', None]"
      ]
     },
     "execution_count": 22,
     "metadata": {},
     "output_type": "execute_result"
    }
   ],
   "source": [
    "katalk.append(None)\n",
    "katalk"
   ]
  },
  {
   "cell_type": "code",
   "execution_count": 23,
   "metadata": {},
   "outputs": [
    {
     "data": {
      "text/plain": [
       "['다현', '정연', '쯔위', '사나', '지효', '모모']"
      ]
     },
     "execution_count": 23,
     "metadata": {},
     "output_type": "execute_result"
    }
   ],
   "source": [
    "katalk[len(katalk) - 1] = '모모'\n",
    "katalk"
   ]
  },
  {
   "cell_type": "markdown",
   "metadata": {},
   "source": [
    "- 데이터를 중간에 추가\n",
    "    1. 배열의 마지막에 빈공간 추가\n",
    "    2. 데이터를 추가할 위치까지 이전 데이터를 뒤로 시프트\n",
    "    3. 중간의 빈 위치에 새 데이터 추가\n",
    "\n",
    "- insert() 함수를 안 쓰면 이렇게 구현해야 함"
   ]
  },
  {
   "cell_type": "code",
   "execution_count": 24,
   "metadata": {},
   "outputs": [
    {
     "data": {
      "text/plain": [
       "['다현', '정연', '쯔위', '사나', '지효', '모모']"
      ]
     },
     "execution_count": 24,
     "metadata": {},
     "output_type": "execute_result"
    }
   ],
   "source": [
    "katalk"
   ]
  },
  {
   "cell_type": "code",
   "execution_count": 25,
   "metadata": {},
   "outputs": [
    {
     "data": {
      "text/plain": [
       "['다현', '정연', '쯔위', '사나', '지효', '모모', None]"
      ]
     },
     "execution_count": 25,
     "metadata": {},
     "output_type": "execute_result"
    }
   ],
   "source": [
    "# 맨 마지막에 빈공간  생성\n",
    "katalk.append(None)\n",
    "katalk"
   ]
  },
  {
   "cell_type": "code",
   "execution_count": 26,
   "metadata": {},
   "outputs": [
    {
     "data": {
      "text/plain": [
       "['다현', '정연', '쯔위', '사나', '지효', None, '모모']"
      ]
     },
     "execution_count": 26,
     "metadata": {},
     "output_type": "execute_result"
    }
   ],
   "source": [
    "# 뒤로 시프트\n",
    "katalk[6] = katalk[5]\n",
    "katalk[5] = None\n",
    "katalk"
   ]
  },
  {
   "cell_type": "code",
   "execution_count": 27,
   "metadata": {},
   "outputs": [
    {
     "data": {
      "text/plain": [
       "['다현', '정연', '쯔위', None, '사나', '지효', '모모']"
      ]
     },
     "execution_count": 27,
     "metadata": {},
     "output_type": "execute_result"
    }
   ],
   "source": [
    "# 계속 이동\n",
    "katalk[5] = katalk[4]\n",
    "katalk[4] = None\n",
    "katalk[4] = katalk[3]\n",
    "katalk[3] = None\n",
    "katalk"
   ]
  },
  {
   "cell_type": "code",
   "execution_count": 29,
   "metadata": {},
   "outputs": [
    {
     "data": {
      "text/plain": [
       "['다현', '정연', '쯔위', '미나', '사나', '지효', '모모']"
      ]
     },
     "execution_count": 29,
     "metadata": {},
     "output_type": "execute_result"
    }
   ],
   "source": [
    "# 빈 자리에 미나 추가\n",
    "katalk[3] = '미나'\n",
    "katalk"
   ]
  },
  {
   "cell_type": "markdown",
   "metadata": {},
   "source": [
    "- 데이터 삭제\n",
    "    1. 위치의 값을 None으로 변경\n",
    "    2. None이 된 빈 위치에 오른쪽 데이터 이동, 그 자리는 None\n",
    "    3. 배열의 마지막이 None이 될 때까지\n",
    "    4. del(배열(index)) 삭제"
   ]
  },
  {
   "cell_type": "markdown",
   "metadata": {},
   "source": [
    "### 선형리스트 일반 구현\n",
    "- da03_linear_list로 구현"
   ]
  }
 ],
 "metadata": {
  "kernelspec": {
   "display_name": "Python 3",
   "language": "python",
   "name": "python3"
  },
  "language_info": {
   "codemirror_mode": {
    "name": "ipython",
    "version": 3
   },
   "file_extension": ".py",
   "mimetype": "text/x-python",
   "name": "python",
   "nbconvert_exporter": "python",
   "pygments_lexer": "ipython3",
   "version": "3.11.9"
  }
 },
 "nbformat": 4,
 "nbformat_minor": 2
}
