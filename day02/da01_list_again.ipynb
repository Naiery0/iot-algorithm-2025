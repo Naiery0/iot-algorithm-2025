{
 "cells": [
  {
   "cell_type": "code",
   "execution_count": null,
   "metadata": {},
   "outputs": [],
   "source": []
  },
  {
   "cell_type": "markdown",
   "metadata": {},
   "source": [
    "### 리스트 컨프리헨션\n",
    "- 리스트를 좀 더 쉽게 사용하기 위해\n",
    "- 리스트내 데이터를 쉽게 생생하기 위해\n",
    "\n"
   ]
  },
  {
   "cell_type": "markdown",
   "metadata": {},
   "source": []
  },
  {
   "cell_type": "code",
   "execution_count": null,
   "metadata": {},
   "outputs": [],
   "source": [
    "# 1~20까지 리스트를 만드는 방법\n",
    "numList = [1,2,3,4,5,6,7] # 생략\n",
    "numList"
   ]
  },
  {
   "cell_type": "code",
   "execution_count": null,
   "metadata": {},
   "outputs": [],
   "source": [
    "# 2 - for문\n",
    "numList2 = []\n",
    "for i in range(1, 20 + 1)\n",
    "    numList2.append(i)\n",
    "numList2"
   ]
  },
  {
   "cell_type": "code",
   "execution_count": null,
   "metadata": {},
   "outputs": [],
   "source": [
    "# 3 리스트 컨프리헨션\n",
    "numList3 = [i for i in range(1, 21)]\n",
    "numList3"
   ]
  },
  {
   "cell_type": "code",
   "execution_count": null,
   "metadata": {},
   "outputs": [],
   "source": [
    "# 곱셈해서 리스트만들기\n",
    "numList4 = [i * i for i in range(1, 21)]"
   ]
  },
  {
   "cell_type": "code",
   "execution_count": null,
   "metadata": {},
   "outputs": [],
   "source": [
    "# 짝수로 되는 리스트\n",
    "numList5 = [i for i in range(1, 21) if i % 2 == 0]  "
   ]
  },
  {
   "cell_type": "code",
   "execution_count": null,
   "metadata": {},
   "outputs": [],
   "source": [
    "# 2c"
   ]
  }
 ],
 "metadata": {
  "language_info": {
   "name": "python"
  }
 },
 "nbformat": 4,
 "nbformat_minor": 2
}
