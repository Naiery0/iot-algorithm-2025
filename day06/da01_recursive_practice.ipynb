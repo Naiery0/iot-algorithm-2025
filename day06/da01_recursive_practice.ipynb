{
 "cells": [
  {
   "cell_type": "markdown",
   "metadata": {},
   "source": [
    "#### 재귀호출 연습"
   ]
  },
  {
   "cell_type": "code",
   "execution_count": null,
   "metadata": {},
   "outputs": [
    {
     "name": "stdout",
     "output_type": "stream",
     "text": [
      "5\n",
      "4\n",
      "3\n",
      "2\n",
      "1\n",
      "우주선 발사\n"
     ]
    }
   ],
   "source": [
    "import time\n",
    "\n",
    "## 우주선 발사 카운트다운 \n",
    "def countDown(n):\n",
    "    if n == 0: \n",
    "        print('우주선 발사')\n",
    "    else:\n",
    "        print(n)\n",
    "        time.sleep(1)\n",
    "        countDown(n - 1) # 숫자를 줄여 재귀호출\n",
    "\n",
    "countDown(5)"
   ]
  },
  {
   "cell_type": "markdown",
   "metadata": {},
   "source": [
    "#### 별 모양 출력\n"
   ]
  },
  {
   "cell_type": "code",
   "execution_count": 2,
   "metadata": {},
   "outputs": [
    {
     "name": "stdout",
     "output_type": "stream",
     "text": [
      "★★★★★\n",
      "★★★★\n",
      "★★★\n",
      "★★\n",
      "★\n"
     ]
    }
   ],
   "source": [
    "def printStar(n):\n",
    "    if n > 0:\n",
    "        print('★' * n)\n",
    "        printStar(n - 1)\n",
    "\n",
    "printStar(5)"
   ]
  },
  {
   "cell_type": "code",
   "execution_count": 4,
   "metadata": {},
   "outputs": [
    {
     "name": "stdout",
     "output_type": "stream",
     "text": [
      "## 2단 ##\n",
      "2x1= 2\n",
      "2x2= 4\n",
      "2x3= 6\n",
      "2x4= 8\n",
      "2x5=10\n",
      "2x6=12\n",
      "2x7=14\n",
      "2x8=16\n",
      "2x9=18\n",
      "\n",
      "## 3단 ##\n",
      "3x1= 3\n",
      "3x2= 6\n",
      "3x3= 9\n",
      "3x4=12\n",
      "3x5=15\n",
      "3x6=18\n",
      "3x7=21\n",
      "3x8=24\n",
      "3x9=27\n",
      "\n",
      "## 4단 ##\n",
      "4x1= 4\n",
      "4x2= 8\n",
      "4x3=12\n",
      "4x4=16\n",
      "4x5=20\n",
      "4x6=24\n",
      "4x7=28\n",
      "4x8=32\n",
      "4x9=36\n",
      "\n",
      "## 5단 ##\n",
      "5x1= 5\n",
      "5x2=10\n",
      "5x3=15\n",
      "5x4=20\n",
      "5x5=25\n",
      "5x6=30\n",
      "5x7=35\n",
      "5x8=40\n",
      "5x9=45\n",
      "\n",
      "## 6단 ##\n",
      "6x1= 6\n",
      "6x2=12\n",
      "6x3=18\n",
      "6x4=24\n",
      "6x5=30\n",
      "6x6=36\n",
      "6x7=42\n",
      "6x8=48\n",
      "6x9=54\n",
      "\n",
      "## 7단 ##\n",
      "7x1= 7\n",
      "7x2=14\n",
      "7x3=21\n",
      "7x4=28\n",
      "7x5=35\n",
      "7x6=42\n",
      "7x7=49\n",
      "7x8=56\n",
      "7x9=63\n",
      "\n",
      "## 8단 ##\n",
      "8x1= 8\n",
      "8x2=16\n",
      "8x3=24\n",
      "8x4=32\n",
      "8x5=40\n",
      "8x6=48\n",
      "8x7=56\n",
      "8x8=64\n",
      "8x9=72\n",
      "\n",
      "## 9단 ##\n",
      "9x1= 9\n",
      "9x2=18\n",
      "9x3=27\n",
      "9x4=36\n",
      "9x5=45\n",
      "9x6=54\n",
      "9x7=63\n",
      "9x8=72\n",
      "9x9=81\n",
      "\n"
     ]
    }
   ],
   "source": [
    "def gugu(dan, num):\n",
    "    print(f'{dan}x{num}={dan*num:>2d}')\n",
    "    if num < 9:\n",
    "        gugu(dan, num + 1)\n",
    "\n",
    "for dan in range(2, 10):\n",
    "    print(f'## {dan}단 ##')\n",
    "    gugu(dan, 1)\n",
    "    print()"
   ]
  },
  {
   "cell_type": "markdown",
   "metadata": {},
   "source": [
    "#### 배열의 합"
   ]
  },
  {
   "cell_type": "code",
   "execution_count": null,
   "metadata": {},
   "outputs": [],
   "source": [
    "import random\n",
    "\n",
    "ary = [random. randint(0, 100) for _ in range(random. randint(5, 10) ) ]\n",
    "# ary = [i for i in range(1, 101)]\n",
    "def arySum(arr, n):\n",
    "    if n <= 0:\n",
    "        return arr[0]\n",
    "    return arySum(arr, n-1) + arr[n]\n",
    "print(f'배열 {ary} 의 합계 -- > {arySum(ary, len(ary)-1)}')"
   ]
  },
  {
   "cell_type": "markdown",
   "metadata": {},
   "source": [
    "#### 피보나치 수"
   ]
  },
  {
   "cell_type": "code",
   "execution_count": null,
   "metadata": {},
   "outputs": [],
   "source": [
    "def fibonaci(n):\n",
    "    if n == 0:\n",
    "        return 0  # 재귀 끝\n",
    "    elif n == 1:\n",
    "        return 1  # 재귀 끝\n",
    "    else:\n",
    "        return fibonaci(n-1) + fibonaci(n-2)\n",
    "    \n",
    "print(f'피보나치 수 -> ', end=' ')\n",
    "for i in range(0,30):\n",
    "    print(fibonaci(i), end=' ')"
   ]
  },
  {
   "cell_type": "markdown",
   "metadata": {},
   "source": [
    "#### 회문 판단"
   ]
  },
  {
   "cell_type": "code",
   "execution_count": 8,
   "metadata": {},
   "outputs": [
    {
     "name": "stdout",
     "output_type": "stream",
     "text": [
      "kayak=> 0k\n",
      "reaver=> No\n",
      "Borrow or rob=> 0k\n",
      "주유소의 소유주=> 0k\n",
      "야 너 이번 주 주번이 너야=> 0k\n",
      "살금 살금=> No\n"
     ]
    }
   ],
   "source": [
    "strAry = ['kayak', 'reaver', 'Borrow or rob', '주유소의 소유주', '야 너 이번 주 주번이 너야', '살금 살금']\n",
    "\n",
    "def checkPalindrome(pStr):\n",
    "    if len(pStr) <= 1:\n",
    "        return 1\n",
    "    else:\n",
    "        if pStr[0] != pStr[-1]:\n",
    "            return 0\n",
    "        else: # 리스트 맨 처음 단어와 맨 마지막 단어가 같으면, 걔네는 버린다\n",
    "            return checkPalindrome(pStr[1:len(pStr)-1])\n",
    "        \n",
    "# 시작\n",
    "for testStr in strAry:\n",
    "    print(testStr, end='=> ')\n",
    "    testStr = testStr.lower().replace(' ', '') # 대문자 없애고, 공백 없애기\n",
    "    \n",
    "    if checkPalindrome(testStr):\n",
    "        print('0k')\n",
    "    else:\n",
    "        print('No')"
   ]
  },
  {
   "cell_type": "markdown",
   "metadata": {},
   "source": [
    "#### 프랙탈"
   ]
  },
  {
   "cell_type": "code",
   "execution_count": null,
   "metadata": {},
   "outputs": [],
   "source": [
    "from tkinter import *\n",
    "\n",
    "root = Tk()\n",
    "canvas = Canvas(root, width=1000, height=1000, bg='white')\n",
    "canvas.pack()\n",
    "\n",
    "root.mainloop()\n",
    "# 종료시 예외메시지가 계속 출력되어 파이썬으로"
   ]
  },
  {
   "cell_type": "markdown",
   "metadata": {},
   "source": [
    "#### 재귀호출 쓰는 이유?!\n",
    "- 반복문만 가지고 구현이 정말 힘들 때 -> 재귀호출 쓰면 한방에 해결\n",
    "- 수학적인 개념으로 접근하면 점화식(재귀식)을 그대로 소스코드로 구현할 수 있음"
   ]
  },
  {
   "cell_type": "code",
   "execution_count": null,
   "metadata": {},
   "outputs": [],
   "source": []
  }
 ],
 "metadata": {
  "kernelspec": {
   "display_name": "Python 3",
   "language": "python",
   "name": "python3"
  },
  "language_info": {
   "codemirror_mode": {
    "name": "ipython",
    "version": 3
   },
   "file_extension": ".py",
   "mimetype": "text/x-python",
   "name": "python",
   "nbconvert_exporter": "python",
   "pygments_lexer": "ipython3",
   "version": "3.11.9"
  }
 },
 "nbformat": 4,
 "nbformat_minor": 2
}
